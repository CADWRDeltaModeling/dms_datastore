{
 "cells": [
  {
   "cell_type": "markdown",
   "id": "fbeda774",
   "metadata": {},
   "source": [
    "\n",
    "# Cache Round-Trip Example with Metadata\n",
    "\n",
    "This notebook demonstrates how to use the enhanced caching system that:\n",
    "- Caches DataFrames based on selected function arguments\n",
    "- Saves and reloads cached content via CSV with full metadata\n",
    "- Supports recovery of clean data frames with datetime indexing\n",
    "\n",
    "### Features\n",
    "- Metadata headers: `cached_function`, `index_name`, `keys`, and `col_keys`\n",
    "- Optional preservation of some key fields in data via `col_keys`\n",
    "- Automatic datetime index recovery on reload\n"
   ]
  },
  {
   "cell_type": "code",
   "execution_count": 1,
   "id": "c302d93a",
   "metadata": {},
   "outputs": [],
   "source": [
    "\n",
    "import pandas as pd\n",
    "from dms_datastore.caching import *\n"
   ]
  },
  {
   "cell_type": "code",
   "execution_count": 2,
   "id": "30cb7c35",
   "metadata": {},
   "outputs": [],
   "source": [
    "\n",
    "@cache_dataframe(key_args=[\"station\", \"variable\"])\n",
    "def ec_data(station, variable, subloc=\"upper\"):\n",
    "    # Simulated time series\n",
    "    idx = pd.date_range(\"2020-01-01\", periods=100, freq=\"D\")\n",
    "    df = pd.DataFrame({\"value\": range(100), \"station\": station, \"param\": variable}, index=idx)\n",
    "    return df\n"
   ]
  },
  {
   "cell_type": "code",
   "execution_count": 3,
   "id": "cb0572b4",
   "metadata": {},
   "outputs": [],
   "source": [
    "\n",
    "df1 = ec_data(station=\"vns\", variable=\"flow\")\n",
    "df2 = ec_data(station=\"vns\", variable=\"ec\")\n",
    "df3 = ec_data(station=\"old\", variable=\"ec\")\n"
   ]
  },
  {
   "cell_type": "code",
   "execution_count": 7,
   "id": "4c27f36b",
   "metadata": {},
   "outputs": [],
   "source": [
    "\n",
    "cache_to_csv()  # Writes individual CSVs with function-specific metadata\n"
   ]
  },
  {
   "cell_type": "code",
   "execution_count": 8,
   "id": "d5b4889a",
   "metadata": {},
   "outputs": [],
   "source": [
    "\n",
    "LocalCache.instance().clear()\n",
    "load_cache_csv(\"ec_data.csv\")\n"
   ]
  },
  {
   "cell_type": "code",
   "execution_count": 9,
   "id": "994a24e4",
   "metadata": {},
   "outputs": [
    {
     "name": "stdout",
     "output_type": "stream",
     "text": [
      "value         int64\n",
      "station.1    object\n",
      "param        object\n",
      "dtype: object\n"
     ]
    },
    {
     "data": {
      "text/html": [
       "<div>\n",
       "<style scoped>\n",
       "    .dataframe tbody tr th:only-of-type {\n",
       "        vertical-align: middle;\n",
       "    }\n",
       "\n",
       "    .dataframe tbody tr th {\n",
       "        vertical-align: top;\n",
       "    }\n",
       "\n",
       "    .dataframe thead th {\n",
       "        text-align: right;\n",
       "    }\n",
       "</style>\n",
       "<table border=\"1\" class=\"dataframe\">\n",
       "  <thead>\n",
       "    <tr style=\"text-align: right;\">\n",
       "      <th></th>\n",
       "      <th>value</th>\n",
       "      <th>station.1</th>\n",
       "      <th>param</th>\n",
       "    </tr>\n",
       "    <tr>\n",
       "      <th>datetime</th>\n",
       "      <th></th>\n",
       "      <th></th>\n",
       "      <th></th>\n",
       "    </tr>\n",
       "  </thead>\n",
       "  <tbody>\n",
       "    <tr>\n",
       "      <th>2020-01-01</th>\n",
       "      <td>0</td>\n",
       "      <td>vns</td>\n",
       "      <td>flow</td>\n",
       "    </tr>\n",
       "    <tr>\n",
       "      <th>2020-01-02</th>\n",
       "      <td>1</td>\n",
       "      <td>vns</td>\n",
       "      <td>flow</td>\n",
       "    </tr>\n",
       "    <tr>\n",
       "      <th>2020-01-03</th>\n",
       "      <td>2</td>\n",
       "      <td>vns</td>\n",
       "      <td>flow</td>\n",
       "    </tr>\n",
       "    <tr>\n",
       "      <th>2020-01-04</th>\n",
       "      <td>3</td>\n",
       "      <td>vns</td>\n",
       "      <td>flow</td>\n",
       "    </tr>\n",
       "    <tr>\n",
       "      <th>2020-01-05</th>\n",
       "      <td>4</td>\n",
       "      <td>vns</td>\n",
       "      <td>flow</td>\n",
       "    </tr>\n",
       "  </tbody>\n",
       "</table>\n",
       "</div>"
      ],
      "text/plain": [
       "            value station.1 param\n",
       "datetime                         \n",
       "2020-01-01      0       vns  flow\n",
       "2020-01-02      1       vns  flow\n",
       "2020-01-03      2       vns  flow\n",
       "2020-01-04      3       vns  flow\n",
       "2020-01-05      4       vns  flow"
      ]
     },
     "execution_count": 9,
     "metadata": {},
     "output_type": "execute_result"
    }
   ],
   "source": [
    "\n",
    "df_reloaded = LocalCache.instance()[generate_cache_key(\"ec_data\", station=\"vns\", variable=\"flow\")]\n",
    "df_reloaded = coerce_datetime_index(df_reloaded)\n",
    "print(df_reloaded.dtypes)\n",
    "df_reloaded.head()\n"
   ]
  }
 ],
 "metadata": {
  "kernelspec": {
   "display_name": "schism",
   "language": "python",
   "name": "python3"
  },
  "language_info": {
   "codemirror_mode": {
    "name": "ipython",
    "version": 3
   },
   "file_extension": ".py",
   "mimetype": "text/x-python",
   "name": "python",
   "nbconvert_exporter": "python",
   "pygments_lexer": "ipython3",
   "version": "3.10.13"
  }
 },
 "nbformat": 4,
 "nbformat_minor": 5
}
